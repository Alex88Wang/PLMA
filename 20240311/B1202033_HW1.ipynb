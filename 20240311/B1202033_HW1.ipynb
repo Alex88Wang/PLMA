{
  "nbformat": 4,
  "nbformat_minor": 0,
  "metadata": {
    "colab": {
      "provenance": []
    },
    "kernelspec": {
      "name": "python3",
      "display_name": "Python 3"
    },
    "language_info": {
      "name": "python"
    }
  },
  "cells": [
    {
      "cell_type": "code",
      "execution_count": null,
      "metadata": {
        "colab": {
          "base_uri": "https://localhost:8080/"
        },
        "id": "aWx8tVcHW4ZF",
        "outputId": "a90243f3-7dc7-44d3-c7a3-b7ece6ab7156"
      },
      "outputs": [
        {
          "output_type": "stream",
          "name": "stdout",
          "text": [
            "I'm a student.\n"
          ]
        }
      ],
      "source": [
        "a = '''I'm a student.'''\n",
        "print(a)\n"
      ]
    },
    {
      "cell_type": "code",
      "source": [
        "a = int(input(\"請輸入A點x座標x1=\"))\n",
        "b = int(input(\"請輸入A點y座標y1=\"))\n",
        "c = int(input(\"請輸入B點x座標x2=\"))\n",
        "d = int(input(\"請輸入B點y座標y2=\"))\n",
        "l = ((a - c)**2 + (b - d)**2)**0.5\n",
        "print(l)\n"
      ],
      "metadata": {
        "colab": {
          "base_uri": "https://localhost:8080/"
        },
        "id": "eLVqkJO9Y8Ur",
        "outputId": "e6fd5ba6-790f-416f-f310-f84f3b3f70a8"
      },
      "execution_count": null,
      "outputs": [
        {
          "output_type": "stream",
          "name": "stdout",
          "text": [
            "請輸入A點x座標x1=0\n",
            "請輸入A點y座標y1=3\n",
            "請輸入B點x座標x2=3\n",
            "請輸入B點y座標y2=0\n",
            "4.242640687119285\n"
          ]
        }
      ]
    },
    {
      "cell_type": "code",
      "source": [
        "a = int(input(\"請輸入身高\" \"(公分)=\"))\n",
        "b = int(input(\"請輸入體重\" \"(公斤)=\"))\n",
        "a/=100\n",
        "a**=2\n",
        "x = (b/a)\n",
        "print(x)"
      ],
      "metadata": {
        "colab": {
          "base_uri": "https://localhost:8080/"
        },
        "id": "O9lMLS8phbmS",
        "outputId": "f3fa1a4a-fe34-468d-ada4-70e59aa1cc67"
      },
      "execution_count": null,
      "outputs": [
        {
          "output_type": "stream",
          "name": "stdout",
          "text": [
            "請輸入身高(公分)=160\n",
            "請輸入體重(公斤)=60\n",
            "23.437499999999996\n"
          ]
        }
      ]
    }
  ]
}