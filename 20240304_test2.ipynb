{
  "nbformat": 4,
  "nbformat_minor": 0,
  "metadata": {
    "colab": {
      "provenance": []
    },
    "kernelspec": {
      "name": "python3",
      "display_name": "Python 3"
    },
    "language_info": {
      "name": "python"
    }
  },
  "cells": [
    {
      "cell_type": "code",
      "execution_count": null,
      "metadata": {
        "colab": {
          "base_uri": "https://localhost:8080/"
        },
        "id": "tgn5_R5MdtA_",
        "outputId": "637a4115-47f1-4f0c-9da7-2808a0a66497"
      },
      "outputs": [
        {
          "output_type": "stream",
          "name": "stdout",
          "text": [
            "495\n"
          ]
        }
      ],
      "source": [
        "x = 2\n",
        "y = 1\n",
        "print((2*x+y)*(100-y))"
      ]
    },
    {
      "cell_type": "code",
      "source": [
        "y=4\n",
        "print(\"The answer is\",100/(2*y+1))"
      ],
      "metadata": {
        "colab": {
          "base_uri": "https://localhost:8080/"
        },
        "id": "UDzi1DGHgWwX",
        "outputId": "c9ccfa72-2b03-41f0-d0b0-837ebc4fce0f"
      },
      "execution_count": null,
      "outputs": [
        {
          "output_type": "stream",
          "name": "stdout",
          "text": [
            "The answer is 11.11111111111111\n"
          ]
        }
      ]
    }
  ]
}