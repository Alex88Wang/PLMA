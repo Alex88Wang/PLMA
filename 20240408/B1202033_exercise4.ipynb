{
  "nbformat": 4,
  "nbformat_minor": 0,
  "metadata": {
    "colab": {
      "provenance": []
    },
    "kernelspec": {
      "name": "python3",
      "display_name": "Python 3"
    },
    "language_info": {
      "name": "python"
    }
  },
  "cells": [
    {
      "cell_type": "code",
      "execution_count": 7,
      "metadata": {
        "colab": {
          "base_uri": "https://localhost:8080/"
        },
        "id": "qLE4e15ajYMU",
        "outputId": "b3153c08-2236-4180-ed4c-c65f007c0997"
      },
      "outputs": [
        {
          "output_type": "stream",
          "name": "stdout",
          "text": [
            "請輸入身高(公分)=185\n",
            "請輸入體重(公斤)=75\n",
            "BMI: 21.913805697589478\n",
            "適中\n"
          ]
        }
      ],
      "source": [
        "a = int(input(\"請輸入身高\" \"(公分)=\"))\n",
        "b = int(input(\"請輸入體重\" \"(公斤)=\"))\n",
        "a/=100\n",
        "a**=2\n",
        "x = (b/a)\n",
        "print(\"BMI:\",x)\n",
        "if x < 18.5:\n",
        "  print('過輕')\n",
        "elif x==18.5 or (x>18.5 and x<24):\n",
        "  print('適中')\n",
        "elif x==24 or (x>24 and x<27):\n",
        "  print('過重')\n",
        "elif x==27 or x>27:\n",
        "  print('肥胖')"
      ]
    },
    {
      "cell_type": "code",
      "source": [
        "a = int(input(\"請輸入第一個數字=\" ))\n",
        "b = input(\"請輸入運算符號=\" )\n",
        "c = int(input(\"請輸入第二個數字=\" ))\n",
        "if b == '+' :\n",
        "  print(a+c)\n",
        "elif b == '-' :\n",
        "  print(a-c)\n",
        "elif b == '*' :\n",
        "  print(a*c)\n",
        "elif b == '/' :\n",
        "  print(a/c)"
      ],
      "metadata": {
        "colab": {
          "base_uri": "https://localhost:8080/"
        },
        "id": "PHEKiQKllQ_3",
        "outputId": "f574dbd5-f3b2-44ce-efce-1c9f2a63a73d"
      },
      "execution_count": 14,
      "outputs": [
        {
          "output_type": "stream",
          "name": "stdout",
          "text": [
            "請輸入第一個數字=5\n",
            "請輸入運算符號=/\n",
            "請輸入第二個數字=3\n",
            "1.6666666666666667\n"
          ]
        }
      ]
    }
  ]
}