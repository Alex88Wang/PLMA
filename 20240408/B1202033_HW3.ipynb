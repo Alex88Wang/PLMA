{
  "nbformat": 4,
  "nbformat_minor": 0,
  "metadata": {
    "colab": {
      "provenance": []
    },
    "kernelspec": {
      "name": "python3",
      "display_name": "Python 3"
    },
    "language_info": {
      "name": "python"
    }
  },
  "cells": [
    {
      "cell_type": "code",
      "execution_count": 2,
      "metadata": {
        "colab": {
          "base_uri": "https://localhost:8080/"
        },
        "id": "qGe7w4YaqcKD",
        "outputId": "6b582379-7cb9-4113-9eed-dd24f3041efc"
      },
      "outputs": [
        {
          "output_type": "stream",
          "name": "stdout",
          "text": [
            "請輸入西元年份=1582\n",
            "平年\n"
          ]
        }
      ],
      "source": [
        "a = int(input(\"請輸入西元年份=\"))\n",
        "if a < 1582 or a == 1582:\n",
        "  if a%4 == 0:\n",
        "    print('閏年')\n",
        "  else: print('平年')\n",
        "else:\n",
        "  if a%4 == 0:\n",
        "    if a%100 == 0 and a%400 != 0:\n",
        "      print('平年')\n",
        "    elif a%100 == 0 and a%400 == 0:\n",
        "      print('閏年')\n",
        "    else: print('閏年')\n",
        "  else: print('平年')"
      ]
    },
    {
      "cell_type": "code",
      "source": [
        "a = int(input(\"請輸入西元年份=\"))\n",
        "if a < 1582 or a == 1582:\n",
        "  if a%4 == 0:\n",
        "    print('閏年')\n",
        "  else: print('平年')\n",
        "else:\n",
        "  if a%4 == 0:\n",
        "    if a%100 == 0 and a%400 != 0:\n",
        "      print('平年')\n",
        "    elif a%100 == 0 and a%400 == 0:\n",
        "      print('閏年')\n",
        "    else: print('閏年')\n",
        "  else: print('平年')"
      ],
      "metadata": {
        "colab": {
          "base_uri": "https://localhost:8080/"
        },
        "id": "uiUtH0dMtqE_",
        "outputId": "afc458ef-73e7-45c0-c94f-42b2b63064a4"
      },
      "execution_count": 3,
      "outputs": [
        {
          "output_type": "stream",
          "name": "stdout",
          "text": [
            "請輸入西元年份=2000\n",
            "閏年\n"
          ]
        }
      ]
    }
  ]
}