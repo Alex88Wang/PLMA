{
  "nbformat": 4,
  "nbformat_minor": 0,
  "metadata": {
    "colab": {
      "provenance": []
    },
    "kernelspec": {
      "name": "python3",
      "display_name": "Python 3"
    },
    "language_info": {
      "name": "python"
    }
  },
  "cells": [
    {
      "cell_type": "code",
      "execution_count": 10,
      "metadata": {
        "colab": {
          "base_uri": "https://localhost:8080/"
        },
        "id": "zoZn3Z1Fd3Vd",
        "outputId": "b6f4ea1d-cc2e-4c6d-bb97-381775d572c8"
      },
      "outputs": [
        {
          "output_type": "stream",
          "name": "stdout",
          "text": [
            "88.33333333333334\n",
            "{'姓名': '賴宏瑋', '性別': '男', '學號': 'M1129020'}\n",
            "95.0\n",
            "{'姓名': '許珈綺', '性別': '女', '學號': 'M1229001'}\n"
          ]
        }
      ],
      "source": [
        "a = dict(姓名='賴宏瑋',性別='男',作業分數=[95,100,90])\n",
        "b = dict(學號='M1129020')\n",
        "a.update(b)\n",
        "import copy\n",
        "c = copy.deepcopy(a)\n",
        "a['作業分數'][1]=80\n",
        "c['姓名'] = '許珈綺'\n",
        "c['性別'] = '女'\n",
        "c['學號'] = 'M1229001'\n",
        "d = a.pop('作業分數')\n",
        "print(d[0]/3+d[1]/3+d[2]/3)\n",
        "print(a)\n",
        "e = c.pop('作業分數')\n",
        "print((e[0]+e[1]+e[2])/3)\n",
        "print(c)"
      ]
    },
    {
      "cell_type": "code",
      "source": [
        "a = [100,50,45,60,90,95,80,50]\n",
        "a.insert(0,88)\n",
        "a[2:5] = [70,50]\n",
        "a.remove(50)\n",
        "b = a.pop(0)\n",
        "c = a.pop(-1)\n",
        "print((b+c)/2)"
      ],
      "metadata": {
        "colab": {
          "base_uri": "https://localhost:8080/"
        },
        "id": "r97vQf8Mh-Vu",
        "outputId": "9f673b53-e2ce-4830-c1e5-ee616804c83f"
      },
      "execution_count": 16,
      "outputs": [
        {
          "output_type": "stream",
          "name": "stdout",
          "text": [
            "69.0\n"
          ]
        }
      ]
    },
    {
      "cell_type": "code",
      "source": [
        "a= 347//3\n",
        "b = 347%3\n",
        "print(a**b)"
      ],
      "metadata": {
        "colab": {
          "base_uri": "https://localhost:8080/"
        },
        "id": "MOi09x2Bl0oc",
        "outputId": "806b6c02-1b4a-482c-f442-33a5f48095e4"
      },
      "execution_count": 19,
      "outputs": [
        {
          "output_type": "stream",
          "name": "stdout",
          "text": [
            "13225\n"
          ]
        }
      ]
    }
  ]
}