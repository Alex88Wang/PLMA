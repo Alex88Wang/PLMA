{
  "nbformat": 4,
  "nbformat_minor": 0,
  "metadata": {
    "colab": {
      "provenance": []
    },
    "kernelspec": {
      "name": "python3",
      "display_name": "Python 3"
    },
    "language_info": {
      "name": "python"
    }
  },
  "cells": [
    {
      "cell_type": "code",
      "source": [
        "s = int(input(\"輸入數字:\"))\n",
        "s=s*2+1\n",
        "for x in range(s):\n",
        "  if x%2==1:\n",
        "    A = int((s-x)/2)\n",
        "    for y in range(A):\n",
        "     print(' ',end=\"\")\n",
        "    for z in range (x):\n",
        "      print('*',end='')\n",
        "    print('')\n",
        "for t in range(5):\n",
        "  B = int((s-3)/2)\n",
        "  print(' '*B,end='')\n",
        "  print('*'*3)"
      ],
      "metadata": {
        "colab": {
          "base_uri": "https://localhost:8080/"
        },
        "id": "P-mt11ct22oY",
        "outputId": "56260e96-0bb6-4fd1-80ea-d9f26bede843"
      },
      "execution_count": 15,
      "outputs": [
        {
          "output_type": "stream",
          "name": "stdout",
          "text": [
            "輸入數字:10\n",
            "          *\n",
            "         ***\n",
            "        *****\n",
            "       *******\n",
            "      *********\n",
            "     ***********\n",
            "    *************\n",
            "   ***************\n",
            "  *****************\n",
            " *******************\n",
            "         ***\n",
            "         ***\n",
            "         ***\n",
            "         ***\n",
            "         ***\n"
          ]
        }
      ]
    },
    {
      "cell_type": "code",
      "source": [
        "height = input('請輸入身高(cm):')\n",
        "weight = input('請輸入體重(kg):')\n",
        "def BMI(height,weight):\n",
        "  BMI = weight/(height**2)\n",
        "  if BMI<18.5:\n",
        "    ans='過輕'\n",
        "  elif BMI<24 and BMI>=18.5:\n",
        "    ans = '適中'\n",
        "  elif BMI<27 and BMI>=24:\n",
        "    ans = '過重'\n",
        "  else:\n",
        "    ans = '過胖'\n",
        "  return BMI, ans\n",
        "try:\n",
        "  height=float(height)\n",
        "  weight=float(weight)\n",
        "  height/=100\n",
        "  BMI, ans=BMI(height,weight)\n",
        "  print(f'BMI:{BMI}')\n",
        "  print(f'體位：{ans}')\n",
        "except:\n",
        "  print('輸入內容錯誤')"
      ],
      "metadata": {
        "colab": {
          "base_uri": "https://localhost:8080/"
        },
        "id": "ALiGFkNhwjmA",
        "outputId": "fde6ddd0-f6be-471a-dda1-53ff3061d628"
      },
      "execution_count": 12,
      "outputs": [
        {
          "output_type": "stream",
          "name": "stdout",
          "text": [
            "請輸入身高(cm):188\n",
            "請輸入體重(kg):ㄏㄏ\n",
            "輸入內容錯誤\n"
          ]
        }
      ]
    },
    {
      "cell_type": "code",
      "source": [
        "height = input('請輸入身高(cm):')\n",
        "weight = input('請輸入體重(kg):')\n",
        "def BMI(height,weight):\n",
        "  BMI = weight/(height**2)\n",
        "  if BMI<18.5:\n",
        "    ans='過輕'\n",
        "  elif BMI<24 and BMI>=18.5:\n",
        "    ans = '適中'\n",
        "  elif BMI<27 and BMI>=24:\n",
        "    ans = '過重'\n",
        "  else:\n",
        "    ans = '過胖'\n",
        "  return BMI, ans\n",
        "try:\n",
        "  height=float(height)\n",
        "  weight=float(weight)\n",
        "  height/=100\n",
        "  BMI, ans=BMI(height,weight)\n",
        "  print(f'BMI:{BMI}')\n",
        "  print(f'體位：{ans}')\n",
        "except:\n",
        "  print('輸入內容錯誤')"
      ],
      "metadata": {
        "colab": {
          "base_uri": "https://localhost:8080/"
        },
        "id": "2HtX7wkv88lV",
        "outputId": "6909663f-81d9-4a97-ae9f-f67473002fad"
      },
      "execution_count": 16,
      "outputs": [
        {
          "output_type": "stream",
          "name": "stdout",
          "text": [
            "請輸入身高(cm):187\n",
            "請輸入體重(kg):75\n",
            "BMI:21.447567845806283\n",
            "體位：適中\n"
          ]
        }
      ]
    }
  ]
}